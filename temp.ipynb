{
 "cells": [
  {
   "cell_type": "code",
   "id": "initial_id",
   "metadata": {
    "collapsed": true,
    "ExecuteTime": {
     "end_time": "2025-03-19T12:22:35.726201Z",
     "start_time": "2025-03-19T12:22:35.721051Z"
    }
   },
   "source": [
    "import torch\n",
    "import torch.nn as nn\n",
    "import numpy as np\n",
    "import random\n",
    "\n",
    "# 词嵌入\n",
    "def generate_data(batch_size, seq_length):\n",
    "    \"\"\"生成正弦波训练数据\"\"\"\n",
    "    x = np.linspace(0, 2 * np.pi, seq_length)\n",
    "    data = []\n",
    "    for _ in range(batch_size // 2):\n",
    "        y = np.sin(x)\n",
    "        data.append((y, ['sin']))\n",
    "        y = np.cos(x)\n",
    "        data.append((y, ['cos']))\n",
    "    return data\n",
    "\n",
    "x_0 = generate_data(batch_size=2, seq_length=10)\n"
   ],
   "outputs": [
    {
     "data": {
      "text/plain": [
       "['sin']"
      ]
     },
     "execution_count": 8,
     "metadata": {},
     "output_type": "execute_result"
    }
   ],
   "execution_count": 8
  },
  {
   "metadata": {},
   "cell_type": "code",
   "outputs": [],
   "execution_count": null,
   "source": "",
   "id": "5d47ab8997f1876e"
  }
 ],
 "metadata": {
  "kernelspec": {
   "display_name": "Python 3",
   "language": "python",
   "name": "python3"
  },
  "language_info": {
   "codemirror_mode": {
    "name": "ipython",
    "version": 2
   },
   "file_extension": ".py",
   "mimetype": "text/x-python",
   "name": "python",
   "nbconvert_exporter": "python",
   "pygments_lexer": "ipython2",
   "version": "2.7.6"
  }
 },
 "nbformat": 4,
 "nbformat_minor": 5
}
