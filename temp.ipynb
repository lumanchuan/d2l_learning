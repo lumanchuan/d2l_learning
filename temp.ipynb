{
 "cells": [
  {
   "cell_type": "code",
   "id": "initial_id",
   "metadata": {
    "collapsed": true,
    "ExecuteTime": {
     "end_time": "2025-03-19T12:22:35.726201Z",
     "start_time": "2025-03-19T12:22:35.721051Z"
    }
   },
   "source": [
    "import torch\n",
    "import torch.nn as nn\n",
    "import numpy as np\n",
    "import random\n",
    "\n",
    "# 词嵌入\n",
    "\n"
   ],
   "outputs": [
    {
     "data": {
      "text/plain": [
       "['sin']"
      ]
     },
     "execution_count": 8,
     "metadata": {},
     "output_type": "execute_result"
    }
   ],
   "execution_count": 8
  },
  {
   "metadata": {
    "ExecuteTime": {
     "end_time": "2025-03-20T11:29:01.894080Z",
     "start_time": "2025-03-20T11:28:58.308260Z"
    }
   },
   "cell_type": "code",
   "source": [
    "import torch\n",
    "from torch.utils.data import Dataset, DataLoader\n",
    "\n",
    "# 创建一个自定义的数据集类\n",
    "class MyDataset(Dataset):\n",
    "    def __init__(self, data):\n",
    "        \"\"\"\n",
    "        初始化数据集\n",
    "        data: 输入数据，大小为 [500, 200]\n",
    "        \"\"\"\n",
    "        self.data = data\n",
    "\n",
    "    def __len__(self):\n",
    "        \"\"\"返回数据集的样本数量\"\"\"\n",
    "        return len(self.data)\n",
    "\n",
    "    def __getitem__(self, idx):\n",
    "        \"\"\"\n",
    "        根据索引 idx 返回样本\n",
    "        返回格式：(样本, 标签)\n",
    "        在这个例子中，我们假设标签就是数据本身，类似于自监督任务\n",
    "        \"\"\"\n",
    "        sample = self.data[idx]\n",
    "        label = sample  # 假如这是自监督学习\n",
    "        return sample, label\n",
    "\n",
    "# 创建数据\n",
    "a = torch.randn(100000, 200)\n",
    "\n",
    "# 实例化数据集\n",
    "dataset = MyDataset(a)\n",
    "\n",
    "# 创建 DataLoader\n",
    "dataloader = DataLoader(dataset, batch_size=32, shuffle=True, num_workers=20)\n",
    "\n",
    "# 测试一下 DataLoader\n",
    "from time import time\n",
    "t1 = time()\n",
    "for batch_idx, (samples, labels) in enumerate(dataloader):\n",
    "    # print(f\"Batch {batch_idx + 1}:\")\n",
    "    # print(f\"  样本形状: {samples.shape}\")\n",
    "    # print(f\"  标签形状: {labels.shape}\")\n",
    "    # break  # 我们只看一下第一个 batch\n",
    "    continue\n",
    "print(time() - t1)"
   ],
   "id": "5d47ab8997f1876e",
   "outputs": [
    {
     "name": "stdout",
     "output_type": "stream",
     "text": [
      "2.6585466861724854\n"
     ]
    }
   ],
   "execution_count": 1
  },
  {
   "metadata": {},
   "cell_type": "code",
   "outputs": [],
   "execution_count": null,
   "source": "",
   "id": "e0d81b93eef45924"
  }
 ],
 "metadata": {
  "kernelspec": {
   "display_name": "Python 3",
   "language": "python",
   "name": "python3"
  },
  "language_info": {
   "codemirror_mode": {
    "name": "ipython",
    "version": 2
   },
   "file_extension": ".py",
   "mimetype": "text/x-python",
   "name": "python",
   "nbconvert_exporter": "python",
   "pygments_lexer": "ipython2",
   "version": "2.7.6"
  }
 },
 "nbformat": 4,
 "nbformat_minor": 5
}
